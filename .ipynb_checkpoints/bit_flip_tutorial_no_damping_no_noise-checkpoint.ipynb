version https://git-lfs.github.com/spec/v1
oid sha256:d61f515f13fd27987bfed3b94e8a868e91d734bc6c5f7d08ac6aac1cf0c14797
size 582263
