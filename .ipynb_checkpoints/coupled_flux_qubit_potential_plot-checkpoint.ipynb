version https://git-lfs.github.com/spec/v1
oid sha256:9567ad956b604af14100c313df9ef95b06c9fdb7b514e9cdc70c58b9a3460454
size 133401
