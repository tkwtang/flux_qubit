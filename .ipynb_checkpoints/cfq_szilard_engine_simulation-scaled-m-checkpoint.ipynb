version https://git-lfs.github.com/spec/v1
oid sha256:ec81f503b2b494a1824d3147fc33c17fdda20269581bed7f4c9ce6e2f2144f66
size 972758
