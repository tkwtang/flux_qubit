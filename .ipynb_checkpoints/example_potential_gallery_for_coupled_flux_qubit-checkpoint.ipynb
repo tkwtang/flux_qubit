version https://git-lfs.github.com/spec/v1
oid sha256:e3e645cdf2ebcb346d3000d25b9365e0b12716a8b7f22a007df90d6f863c05ab
size 58942
