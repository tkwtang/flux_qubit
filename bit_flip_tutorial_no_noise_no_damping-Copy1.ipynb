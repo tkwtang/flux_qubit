{
 "cells": [
  {
   "cell_type": "code",
   "execution_count": 3,
   "metadata": {},
   "outputs": [],
   "source": [
    "from IPython.display import HTML\n",
    "import matplotlib.animation as animation\n",
    "import matplotlib.pyplot as plt\n",
    "import numpy as np\n",
    "import SimRunner as sr\n",
    "import os, importlib\n",
    "\n",
    "%matplotlib inline\n",
    "plt.rcParams[\"animation.html\"] = \"jshtml\""
   ]
  },
  {
   "cell_type": "code",
   "execution_count": 127,
   "metadata": {},
   "outputs": [
    {
     "name": "stdout",
     "output_type": "stream",
     "text": [
      "\n",
      " initializing...\n",
      "the parameters:  [(1.0, 1.0), (-4.0, -4.0)]\n",
      "the parameters:  [(0, 0), (9.869604401089358, 9.869604401089358)]\n",
      " found 5015 samples out of 5000\n",
      " running sim...\n",
      "\n",
      " analyzing output...\n"
     ]
    }
   ],
   "source": [
    "#setting up parameters\n",
    "# try to create a ParamGuider class from source.kyle_tools.multisim OR make your own similar class in order to \n",
    "# 'optimize' this bit flip. By optimize, I mean to find a protocol that has low work but also high fidelity.  \n",
    "# Keep lambda at .5 but feel free to change the other parameters.\n",
    "bfr = sr.BitFlipRunner()\n",
    "\n",
    "p_vals={}\n",
    "p_vals['lambda']=0\n",
    "p_vals['N'] = 5_000\n",
    "p_vals['dt'] = 1/200\n",
    "p_vals['k'] = np.pi**2\n",
    "p_vals['tau'] = 1\n",
    "p_vals['depth'] = 1\n",
    "p_vals['location'] = 1\n",
    "\n",
    "bfr.change_params(p_vals) # this is a method in SimManager, defined in multisim\n",
    "bfr.run_sim() # defined in kyle_tools/multism.py"
   ]
  },
  {
   "cell_type": "markdown",
   "metadata": {},
   "source": [
    "# single sim"
   ]
  },
  {
   "cell_type": "code",
   "execution_count": 62,
   "metadata": {},
   "outputs": [
    {
     "name": "stdout",
     "output_type": "stream",
     "text": [
      "\n",
      " initializing...\n",
      "the parameters:  [(1.0, 1.0), (-4.0, -4.0)]\n",
      "the parameters:  [(0, 0), (9.869604401089358, 9.869604401089358)]\n",
      " found 10070 samples out of 10000\n",
      " running sim...\n",
      "\n",
      " analyzing output...\n",
      "\n",
      " initializing...\n",
      "the parameters:  [(1.0, 1.0), (-4.0, -4.0)]\n",
      "the parameters:  [(0, 0), (9.869604401089358, 9.869604401089358)]\n",
      " found 10031 samples out of 10000\n",
      " running sim...\n",
      "\n",
      " analyzing output...\n",
      "\n",
      " initializing...\n",
      "the parameters:  [(1.0, 1.0), (-4.0, -4.0)]\n",
      "the parameters:  [(0, 0), (9.869604401089358, 9.869604401089358)]\n",
      " found 10018 samples out of 10000\n",
      " running sim...\n",
      "\n",
      " analyzing output...\n",
      "\n",
      " initializing...\n",
      "the parameters:  [(1.0, 1.0), (-4.0, -4.0)]\n",
      "the parameters:  [(0, 0), (9.869604401089358, 9.869604401089358)]\n",
      " found 10073 samples out of 10000\n",
      " running sim...\n",
      "\n",
      " analyzing output...\n",
      "\n",
      " initializing...\n",
      "the parameters:  [(1.0, 1.0), (-4.0, -4.0)]\n",
      "the parameters:  [(0, 0), (9.869604401089358, 9.869604401089358)]\n",
      " found 10014 samples out of 10000\n",
      " running sim...\n",
      "\n",
      " analyzing output...\n"
     ]
    }
   ],
   "source": [
    "dt_list = [1/1_000, 1/5_000, 1/10_000, 1/50_000, 1/100_000]\n",
    "# dt_list = [1/1_000, 1/5000]\n",
    "for dt in dt_list:\n",
    "    sweepObject = {\n",
    "        \"lambda\":   0,\n",
    "        \"N\":        10_000,\n",
    "        \"dt\":       dt,\n",
    "        \"k\":        np.pi**2,\n",
    "        \"tau\":      1,\n",
    "        \"depth\":    1,\n",
    "        \"location\": 1\n",
    "    }\n",
    "    bfr.change_params(sweepObject)\n",
    "    bfr.run_sim(verbose=True)\n",
    "    initial_position = bfr.sim.output.all_state[\"states\"][:, 0, 0, 0]\n",
    "    final_position = bfr.sim.output.all_state[\"states\"][:, -1, 0, 0]\n",
    "    \n",
    "    np.save(f\"x_position_with_dt_{dt}.npy\", np.asarray([initial_position, final_position]))\n",
    "    "
   ]
  },
  {
   "cell_type": "markdown",
   "metadata": {},
   "source": [
    "# precision test\n",
    "- In the following section, I compare the result of the simulation and the analytic solution to see how large the error in the position will be. \n",
    "- I used the time steps for dt = [0.001, 0.0001, 0.0002, 1e-05, 2e-05]\n",
    "- I found that as time steps are too small, the error in position can grow up to 10^-3\n",
    "- the error may be come from the integrator and this shows."
   ]
  },
  {
   "cell_type": "code",
   "execution_count": 121,
   "metadata": {},
   "outputs": [],
   "source": [
    "dt = [0.001, 0.0001, 0.0002, 1e-05, 2e-05]\n",
    "precision_list = [10**x for x in range(-1, -16, -1)]\n",
    "fileNameList = [\"x_position_with_dt_0.001.npy\",\"x_position_with_dt_0.0001.npy\", \n",
    " \"x_position_with_dt_0.0002.npy\", \"x_position_with_dt_1e-05.npy\",\n",
    " \"x_position_with_dt_2e-05.npy\"]"
   ]
  },
  {
   "cell_type": "code",
   "execution_count": 122,
   "metadata": {},
   "outputs": [],
   "source": [
    "def createErrorPrecisionList(_dt):\n",
    "    array = []\n",
    "    data = np.load(f\"x_position_with_dt_{_dt}.npy\")\n",
    "    initial_x = data[0]\n",
    "    final_x = data[1]\n",
    "    for e in precision_list:\n",
    "        # here I add the two positions because after half a cycle, the positoin should \n",
    "        # flip and the expected error should be 0\n",
    "        array.append([e, np.sum(initial_x + final_x < e)/len(initial_x)])\n",
    "    return array\n"
   ]
  },
  {
   "cell_type": "code",
   "execution_count": 123,
   "metadata": {},
   "outputs": [],
   "source": [
    "dataArray = []\n",
    "for _dt in dt:\n",
    "    dataArray.append([_dt, createErrorPrecisionList(_dt)])"
   ]
  },
  {
   "cell_type": "code",
   "execution_count": 126,
   "metadata": {},
   "outputs": [
    {
     "name": "stdout",
     "output_type": "stream",
     "text": [
      "dt = 0.001, number of steps = 1000.0\n"
     ]
    },
    {
     "data": {
      "image/png": "[encoded data removed]",
      "text/plain": [
       "<Figure size 432x288 with 1 Axes>"
      ]
     },
     "metadata": {
      "needs_background": "light"
     },
     "output_type": "display_data"
    },
    {
     "name": "stdout",
     "output_type": "stream",
     "text": [
      "dt = 0.0001, number of steps = 10000.0\n"
     ]
    },
    {
     "data": {
      "image/png": "[encoded data removed]",
      "text/plain": [
       "<Figure size 432x288 with 1 Axes>"
      ]
     },
     "metadata": {
      "needs_background": "light"
     },
     "output_type": "display_data"
    },
    {
     "name": "stdout",
     "output_type": "stream",
     "text": [
      "dt = 0.0002, number of steps = 5000.0\n"
     ]
    },
    {
     "data": {
      "image/png": "[encoded data removed]",
      "text/plain": [
       "<Figure size 432x288 with 1 Axes>"
      ]
     },
     "metadata": {
      "needs_background": "light"
     },
     "output_type": "display_data"
    },
    {
     "name": "stdout",
     "output_type": "stream",
     "text": [
      "dt = 1e-05, number of steps = 99999.99999999999\n"
     ]
    },
    {
     "data": {
      "image/png": "[encoded data removed]",
      "text/plain": [
       "<Figure size 432x288 with 1 Axes>"
      ]
     },
     "metadata": {
      "needs_background": "light"
     },
     "output_type": "display_data"
    },
    {
     "name": "stdout",
     "output_type": "stream",
     "text": [
      "dt = 2e-05, number of steps = 49999.99999999999\n"
     ]
    },
    {
     "data": {
      "image/png": "[encoded data removed]",
      "text/plain": [
       "<Figure size 432x288 with 1 Axes>"
      ]
     },
     "metadata": {
      "needs_background": "light"
     },
     "output_type": "display_data"
    }
   ],
   "source": [
    "for x in dataArray:\n",
    "    _dt = x[0]\n",
    "    _errror_accuracy = x[1]\n",
    "    print(f\"dt = {_dt}, number of steps = {1/_dt}\")\n",
    "    plt.ylabel(\"accuracy\")\n",
    "    plt.xlabel(\"error in position\")\n",
    "    plt.xscale(\"log\")\n",
    "    plt.plot(*list(zip(*x[1])))\n",
    "    plt.show()"
   ]
  }
 ],
 "metadata": {
  "interpreter": {
   "hash": "c48eea1d6fe0303de93a25029b75a26fa311fe2cfce1f013702fed1a8d75264d"
  },
  "kernelspec": {
   "display_name": "Python 3",
   "language": "python",
   "name": "python3"
  },
  "language_info": {
   "codemirror_mode": {
    "name": "ipython",
    "version": 3
   },
   "file_extension": ".py",
   "mimetype": "text/x-python",
   "name": "python",
   "nbconvert_exporter": "python",
   "pygments_lexer": "ipython3",
   "version": "3.8.5"
  }
 },
 "nbformat": 4,
 "nbformat_minor": 5
}
