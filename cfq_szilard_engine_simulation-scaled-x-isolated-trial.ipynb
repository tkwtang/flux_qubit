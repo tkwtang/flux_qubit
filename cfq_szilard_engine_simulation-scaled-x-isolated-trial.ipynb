version https://git-lfs.github.com/spec/v1
oid sha256:42fae18c0014df603e8a59eb23478edda7a3bf430c0d0fbee9a5111d378c7922
size 85026
