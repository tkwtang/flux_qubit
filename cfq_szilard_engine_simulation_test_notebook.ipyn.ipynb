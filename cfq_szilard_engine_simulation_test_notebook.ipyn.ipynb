version https://git-lfs.github.com/spec/v1
oid sha256:c0408a1fdab2fcabf4ca6831c426b6fb276d66ec77acf46d4dfef5713ab35586
size 112047
