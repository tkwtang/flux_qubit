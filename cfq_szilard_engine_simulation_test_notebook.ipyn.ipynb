version https://git-lfs.github.com/spec/v1
oid sha256:920ac91c2e25a597000c7984c679155ddd1ff8d08d0721a184ca671d2c1249d1
size 111326
