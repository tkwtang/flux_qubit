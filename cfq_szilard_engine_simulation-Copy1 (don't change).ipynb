version https://git-lfs.github.com/spec/v1
oid sha256:703fbe73fcc280fed760f746994a1448aa0f937ba72a237b573347cdf67ff938
size 1170708
