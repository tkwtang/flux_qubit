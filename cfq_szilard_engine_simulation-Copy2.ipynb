version https://git-lfs.github.com/spec/v1
oid sha256:bee21eda09f4121e205d79d645f8aab2be4e14ff6e3f1f0630675738d757aead
size 11567846
