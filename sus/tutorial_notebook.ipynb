version https://git-lfs.github.com/spec/v1
oid sha256:d90ad3fe363db9fee46b916488a3f641fba3d05bfe5d8ef37dceb3c13a094edc
size 35105
