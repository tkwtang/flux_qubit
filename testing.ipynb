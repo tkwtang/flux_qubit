{
 "cells": [
  {
   "cell_type": "code",
   "execution_count": 2,
   "metadata": {},
   "outputs": [],
   "source": [
    "import numpy as np \n",
    "from numpy import exp as exp\n",
    "from sus.protocol_designer import System, Protocol, Potential, Compound_Protocol"
   ]
  },
  {
   "cell_type": "markdown",
   "metadata": {},
   "source": [
    "##### Lets say we want to make a new kind of potential, say a 2 dimensional potential that is an exponential well at (x,y)=0\n",
    "\n",
    "$$ V= xy $$\n",
    "\n",
    "##### We have 3 parameters to deal with (a, b and T). All we need to do is make a function to give us the potential and the force\n",
    "##### It is good practice to stick to the following docstring format when making the potential function.\n",
    "##### It makes it easier to collaborate with others/yourself."
   ]
  },
  {
   "cell_type": "code",
   "execution_count": 14,
   "metadata": {},
   "outputs": [],
   "source": [
    "from numpy import exp as exp\n",
    "\n",
    "def exp_well_pot(x, y, params):\n",
    "    '''\n",
    "    2D potential, an exponential well centered at (0,0)\n",
    "    with a variable aspect ratio\n",
    "    \n",
    "    Parameters\n",
    "    ----------\n",
    "    x,y : ndarray of dimension [N_coord,]\n",
    "        these are lists of the x and y values where we want to find the potential\n",
    "    params: list [a,b,T]\n",
    "        a,b : the scale at which the x and y directions change the value of the potential\n",
    "        T : the overall 'temperature' scale: affects both x and y directions equally\n",
    "        \n",
    "    Returns\n",
    "    -------\n",
    "    the value of the potential at locations x,y with the given params\n",
    "    '''\n",
    "    a, b = params\n",
    "    return (a*x+b*y)\n",
    "\n",
    "def exp_well_force(x, y, params):\n",
    "    '''\n",
    "    See the exp_well_pot function, it has the same input format\n",
    "    '''\n",
    "    a, b = params\n",
    "    dx= a\n",
    "    dy= b\n",
    "    return(-dx,-dy)\n",
    "   "
   ]
  },
  {
   "cell_type": "code",
   "execution_count": 15,
   "metadata": {},
   "outputs": [],
   "source": [
    "test_potential = Potential(exp_well_pot,exp_well_force,2,2)  "
   ]
  },
  {
   "cell_type": "code",
   "execution_count": 16,
   "metadata": {},
   "outputs": [],
   "source": [
    "trivial_system = System(test_potential.trivial_protocol(),\\\n",
    "                        test_potential)\n",
    "\n"
   ]
  },
  {
   "cell_type": "code",
   "execution_count": 18,
   "metadata": {},
   "outputs": [
    {
     "data": {
      "image/png": "[encoded data removed]",
      "text/plain": [
       "<Figure size 432x288 with 2 Axes>"
      ]
     },
     "metadata": {
      "needs_background": "light"
     },
     "output_type": "display_data"
    },
    {
     "data": {
      "text/plain": [
       "(<AxesSubplot:title={'center':'t=1.00'}>,\n",
       " <matplotlib.contour.QuadContourSet at 0x7fc07bd084f0>)"
      ]
     },
     "execution_count": 18,
     "metadata": {},
     "output_type": "execute_result"
    }
   ],
   "source": [
    "trivial_system.show_potential(1)"
   ]
  },
  {
   "cell_type": "code",
   "execution_count": null,
   "metadata": {},
   "outputs": [],
   "source": []
  }
 ],
 "metadata": {
  "kernelspec": {
   "display_name": "Python 3",
   "language": "python",
   "name": "python3"
  },
  "language_info": {
   "codemirror_mode": {
    "name": "ipython",
    "version": 3
   },
   "file_extension": ".py",
   "mimetype": "text/x-python",
   "name": "python",
   "nbconvert_exporter": "python",
   "pygments_lexer": "ipython3",
   "version": "3.8.5"
  }
 },
 "nbformat": 4,
 "nbformat_minor": 4
}
